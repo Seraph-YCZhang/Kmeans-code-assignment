{
 "cells": [
  {
   "cell_type": "code",
   "execution_count": 99,
   "metadata": {},
   "outputs": [],
   "source": [
    "# this is for baylor code assignment. \n",
    "# K means "
   ]
  },
  {
   "cell_type": "code",
   "execution_count": 100,
   "metadata": {},
   "outputs": [],
   "source": [
    "import numpy as np\n",
    "%matplotlib notebook\n",
    "import matplotlib as plt"
   ]
  },
  {
   "cell_type": "code",
   "execution_count": 101,
   "metadata": {},
   "outputs": [],
   "source": [
    "root_dir = (\"../datasets/\")\n",
    "X = np.loadtxt(\"../datasets/0.txt\")"
   ]
  },
  {
   "cell_type": "code",
   "execution_count": 102,
   "metadata": {},
   "outputs": [
    {
     "data": {
      "text/plain": [
       "(134, 1000)"
      ]
     },
     "execution_count": 102,
     "metadata": {},
     "output_type": "execute_result"
    }
   ],
   "source": [
    "X.shape"
   ]
  },
  {
   "cell_type": "code",
   "execution_count": 103,
   "metadata": {},
   "outputs": [],
   "source": [
    "def init_clusters(k, points):\n",
    "    num, dim = points.shape\n",
    "    centroids = np.zeros((k, dim))\n",
    "    for i in range(k):\n",
    "        index = int(np.random.uniform(0, num))\n",
    "        centroids[i, :] = points[index, :]\n",
    "    return centroids"
   ]
  },
  {
   "cell_type": "code",
   "execution_count": 104,
   "metadata": {},
   "outputs": [],
   "source": [
    "def cal_distances(centroid, points):\n",
    "    return np.linalg.norm(points - centroid, axis=1)"
   ]
  },
  {
   "cell_type": "code",
   "execution_count": 120,
   "metadata": {},
   "outputs": [],
   "source": [
    "def k_means(k, points, max_iter = 100):\n",
    "    centroids = init_clusters(k, points)\n",
    "    costs = np.zeros(max_iter, dtype=np.float64)\n",
    "    classes = np.zeros(X.shape[0], dtype=np.float64)\n",
    "    pre_classes = None\n",
    "    distances = np.zeros([X.shape[0], k], dtype=np.float64)\n",
    "    for idx in range(max_iter):\n",
    "        for i,c in enumerate(centroids):\n",
    "            distances[:, i] = cal_distances(c, X)\n",
    "        classes = np.argmin(distances, axis = 1)\n",
    "        if pre_classes is not None: print(np.equal(pre_classes,classes))\n",
    "        if np.all(np.equal(pre_classes,classes)): break\n",
    "        costs[idx] = np.sum(np.power(np.min(distances, axis = 1),2))\n",
    "        for c in range(k):\n",
    "            centroids[c] = np.mean(X[classes == c], 0)\n",
    "        pre_classes = classes.copy()\n",
    "    return classes, costs[-1], centroids, classes"
   ]
  },
  {
   "cell_type": "code",
   "execution_count": 121,
   "metadata": {},
   "outputs": [],
   "source": [
    "def find_bestK(X, min_k = 2, max_k = X.shape[0]):\n",
    "    pre_improve = None\n",
    "    pre_cost = None\n",
    "    improve = None\n",
    "    for k in range(min_k, max_k):\n",
    "        classes, cur_cost, centroids, classes = k_means(k, X)\n",
    "        if pre_cost:\n",
    "            improve = cur_cost - pre_cost\n",
    "        if pre_improve and improve < pre_improve:\n",
    "            print(k, classes)\n",
    "#             showCluster(X,k, centroids, classes)\n",
    "            return k, cur_cost\n",
    "        pre_improve = improve\n",
    "        pre_cost = cur_cost        "
   ]
  },
  {
   "cell_type": "code",
   "execution_count": 122,
   "metadata": {},
   "outputs": [],
   "source": [
    "import matplotlib.pyplot as plt\n",
    "%matplotlib inline"
   ]
  },
  {
   "cell_type": "code",
   "execution_count": 123,
   "metadata": {},
   "outputs": [],
   "source": [
    "def showCluster(dataSet, k, centroids, clusterAssment):\n",
    "    numSamples, dim = dataSet.shape\n",
    "    mark = ['or', 'ob', 'og', 'ok', '^r', '+r', 'sr', 'dr', '<r', 'pr']\n",
    "    # draw all samples\n",
    "    for i in range(numSamples):\n",
    "        markIndex = clusterAssment[i]\n",
    "        plt.plot(dataSet[i, 0], dataSet[i, 1], mark[markIndex])\n",
    "    mark = ['Dr', 'Db', 'Dg', 'Dk', '^b', '+b', 'sb', 'db', '<b', 'pb']\n",
    "    # draw the centroids\n",
    "    for i in range(k):\n",
    "        plt.plot(centroids[i, 0], centroids[i, 1], mark[i], markersize = 12)\n",
    "    plt.show()"
   ]
  },
  {
   "cell_type": "code",
   "execution_count": null,
   "metadata": {},
   "outputs": [],
   "source": [
    "ans = []\n",
    "for i in range(10):\n",
    "    k,c = find_bestK(X)\n",
    "    ans.append((k,c))\n",
    "print(ans)\n",
    "print(min(ans, key = lambda x : x[1]))"
   ]
  },
  {
   "cell_type": "code",
   "execution_count": null,
   "metadata": {},
   "outputs": [],
   "source": []
  }
 ],
 "metadata": {
  "kernelspec": {
   "display_name": "Python 3",
   "language": "python",
   "name": "python3"
  },
  "language_info": {
   "codemirror_mode": {
    "name": "ipython",
    "version": 3
   },
   "file_extension": ".py",
   "mimetype": "text/x-python",
   "name": "python",
   "nbconvert_exporter": "python",
   "pygments_lexer": "ipython3",
   "version": "3.7.4"
  }
 },
 "nbformat": 4,
 "nbformat_minor": 2
}
